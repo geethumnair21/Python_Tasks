{
  "nbformat": 4,
  "nbformat_minor": 0,
  "metadata": {
    "colab": {
      "provenance": []
    },
    "kernelspec": {
      "name": "python3",
      "display_name": "Python 3"
    },
    "language_info": {
      "name": "python"
    }
  },
  "cells": [
    {
      "cell_type": "markdown",
      "source": [
        "1. Write an interactive Python Program to implement following “Guess Game”\n",
        "i. Think of a number between 1 and 10 and store it in a variable called \"secretNumber\".\n",
        "ii. Ask the user to enter a number between 1 and 10 and store it in a variable called \"guess\".\n",
        "iii. Use control statements (if-else) to check if the guess is correct, higher, or lower than the secret number.\n",
        "iv. Display appropriate messages to the user based on their guess:\n",
        "• If the guess is correct, display \"Congratulations! You guessed the number correctly!\"\n",
        "• If the guess is higher than the secret number, display \"Too high! Try again.\"\n",
        "• If the guess is lower than the secret number, display \"Too low! Try again.\"\n",
        "v. Allow the user to keep guessing until they guess the correct number."
      ],
      "metadata": {
        "id": "nuyluemZuKkS"
      }
    },
    {
      "cell_type": "code",
      "execution_count": null,
      "metadata": {
        "colab": {
          "base_uri": "https://localhost:8080/"
        },
        "id": "xGtypzTPtkJj",
        "outputId": "36ae2d5f-95ac-4878-abdf-86b126a08cb6"
      },
      "outputs": [
        {
          "output_type": "stream",
          "name": "stdout",
          "text": [
            "Think of a number between 1 and 10 : 6\n",
            "Enter a number between 1 and 10 : 5\n",
            "Too low! Try again.\n",
            "Enter a number between 1 and 10 : 7\n",
            "Too high! Try again.\n",
            "Enter a number between 1 and 10 : 10\n",
            "Too high! Try again.\n",
            "Enter a number between 1 and 10 : 3\n",
            "Too low! Try again.\n",
            "Enter a number between 1 and 10 : 6\n",
            "Congratulations! You guessed the number correctly!\n"
          ]
        }
      ],
      "source": [
        "secretNumber=int(input('Think of a number between 1 and 10 : '))\n",
        "while True:\n",
        " guess=int(input('Enter a number between 1 and 10 : '))\n",
        " if guess==secretNumber:\n",
        "  print('Congratulations! You guessed the number correctly!')\n",
        "  break\n",
        " elif guess>secretNumber:\n",
        "  print('Too high! Try again.')\n",
        " else:\n",
        "  print('Too low! Try again.')"
      ]
    },
    {
      "cell_type": "markdown",
      "source": [
        "2. Write a program to find and print the Factorial of this number. The Factorial of a positive integer N refers to the product of all number in the range from 1 to N."
      ],
      "metadata": {
        "id": "SUUkmMlo8RRp"
      }
    },
    {
      "cell_type": "code",
      "source": [
        "import math\n",
        "number=int(input('Enter a positive integer : '))\n",
        "factorial=math.factorial(number)\n",
        "print('The Facorial of ',number, 'is ',factorial)"
      ],
      "metadata": {
        "colab": {
          "base_uri": "https://localhost:8080/"
        },
        "id": "srG0QU6RyR7p",
        "outputId": "b56f0d2c-75fc-4997-f107-7c9d94b07714"
      },
      "execution_count": null,
      "outputs": [
        {
          "output_type": "stream",
          "name": "stdout",
          "text": [
            "Enter a positive integer : 8\n",
            "The Facorial of  8 is  40320\n"
          ]
        }
      ]
    },
    {
      "cell_type": "markdown",
      "source": [
        "Roy wants to change his profile picture on Facebook. Now Facebook has some restriction over the dimension of picture that we can upload. Minimum dimension of the picture can be L x L, where L is the length of the side of square. Now Roy has N photos of various dimensions. Dimension of a photo is denoted as W x H where W - width of the photo and H - Height of the photo"
      ],
      "metadata": {
        "id": "rNPkfDz5zyQQ"
      }
    },
    {
      "cell_type": "markdown",
      "source": [
        " When any photo is uploaded following events may occur: [1] If any of the\n",
        "width or height is less than L, user is prompted to upload another one. Print \"UPLOAD ANOTHER\" in this case.\n",
        "[2] If width and height, both are large enough and (a) if the photo is already square then it is accepted. Print \"ACCEPTED\" in this case. (b) else user is prompted to crop it. Print \"CROP IT\" in this case. Given L, N, W and H as input, write a program to print appropriate text as output."
      ],
      "metadata": {
        "id": "uMQJVK9Jz6Qd"
      }
    },
    {
      "cell_type": "code",
      "source": [
        "L=int(input('Enter length of the photo : '))\n",
        "N=int(input('Enter the number of photos : '))\n",
        "for i in range(N):\n",
        " W,H=map(int,input(f'Enter width and height of photo {i+1} : ').split(' '))\n",
        " if W<L or H<L:\n",
        "  print('UPLOAD ANOTHER')\n",
        " elif W>L and H>L:\n",
        "  print('CROP IT photo')\n",
        " else:\n",
        "  print('ACCEPTED')"
      ],
      "metadata": {
        "id": "xbo7XHjS9XuD",
        "colab": {
          "base_uri": "https://localhost:8080/"
        },
        "outputId": "6c5a0cbe-06e1-4955-db45-b7d48abd68b0"
      },
      "execution_count": 8,
      "outputs": [
        {
          "output_type": "stream",
          "name": "stdout",
          "text": [
            "Enter length of the photo : 35\n",
            "Enter the number of photos : 3\n",
            "Enter width and height of photo 1 : 67 58\n",
            "CROP IT photo\n",
            "Enter width and height of photo 2 : 35 57\n",
            "ACCEPTED\n",
            "Enter width and height of photo 3 : 12 23\n",
            "UPLOAD ANOTHER\n"
          ]
        }
      ]
    },
    {
      "cell_type": "code",
      "source": [],
      "metadata": {
        "id": "5_rxVdJl-nGe"
      },
      "execution_count": null,
      "outputs": []
    }
  ]
}