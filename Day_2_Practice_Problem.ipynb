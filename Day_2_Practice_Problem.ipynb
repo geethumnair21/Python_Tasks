{
  "nbformat": 4,
  "nbformat_minor": 0,
  "metadata": {
    "colab": {
      "provenance": []
    },
    "kernelspec": {
      "name": "python3",
      "display_name": "Python 3"
    },
    "language_info": {
      "name": "python"
    }
  },
  "cells": [
    {
      "cell_type": "markdown",
      "source": [
        "1. Write a program to find sum of all elements in a list of integers."
      ],
      "metadata": {
        "id": "fmRxdY4kinFE"
      }
    },
    {
      "cell_type": "code",
      "execution_count": null,
      "metadata": {
        "colab": {
          "base_uri": "https://localhost:8080/"
        },
        "id": "s3uogH3nid5v",
        "outputId": "7afbd213-df78-4052-8680-e4117b0ea16b"
      },
      "outputs": [
        {
          "output_type": "stream",
          "name": "stdout",
          "text": [
            "211\n"
          ]
        }
      ],
      "source": [
        "a=[20,10,24,36,46,28,47]\n",
        "print(sum(a))"
      ]
    },
    {
      "cell_type": "markdown",
      "source": [
        "2. Input a sentence as a string.\n",
        "a) Print its length\n",
        "b) Print the first half of string\n"
      ],
      "metadata": {
        "id": "f458wxF9jgcH"
      }
    },
    {
      "cell_type": "code",
      "source": [
        "x=(\"Hello world welcome to python!\")\n",
        "print(len(x))"
      ],
      "metadata": {
        "colab": {
          "base_uri": "https://localhost:8080/"
        },
        "id": "4VfIIQo_jKBA",
        "outputId": "408b6e27-abb5-4afa-f004-28b34e613166"
      },
      "execution_count": 135,
      "outputs": [
        {
          "output_type": "stream",
          "name": "stdout",
          "text": [
            "30\n"
          ]
        }
      ]
    },
    {
      "cell_type": "code",
      "source": [
        "print(x[:len(x)//2])"
      ],
      "metadata": {
        "colab": {
          "base_uri": "https://localhost:8080/"
        },
        "id": "3vu9iOQEj310",
        "outputId": "0c40d81b-00ea-42da-e2bf-98dc398b5252"
      },
      "execution_count": 143,
      "outputs": [
        {
          "output_type": "stream",
          "name": "stdout",
          "text": [
            "Hello world wel\n"
          ]
        }
      ]
    },
    {
      "cell_type": "markdown",
      "source": [
        "3. Write a program to enter a tuple of integers as\n",
        "(78,45,32,19,82,77,40,39). Change the third value in the tuple to\n",
        "100\n"
      ],
      "metadata": {
        "id": "RAUtdIUHkbZt"
      }
    },
    {
      "cell_type": "code",
      "source": [
        "T1=(78,45,32,19,82,77,40,39)\n",
        "y=list(T1)\n",
        "print(y)\n",
        "y[2]=100\n",
        "print(y)\n",
        "T1=tuple(y)\n",
        "print(T1)"
      ],
      "metadata": {
        "colab": {
          "base_uri": "https://localhost:8080/"
        },
        "id": "3F_CI42LkTHy",
        "outputId": "58231f7f-4c2a-462d-ef73-1d914e469e63"
      },
      "execution_count": 4,
      "outputs": [
        {
          "output_type": "stream",
          "name": "stdout",
          "text": [
            "[78, 45, 32, 19, 82, 77, 40, 39]\n",
            "[78, 45, 100, 19, 82, 77, 40, 39]\n",
            "(78, 45, 100, 19, 82, 77, 40, 39)\n"
          ]
        }
      ]
    },
    {
      "cell_type": "markdown",
      "source": [
        "4. Consider a list listA=[19,32,10,55,31,32,94,29,10,65,77,40,40]"
      ],
      "metadata": {
        "id": "OuTSyTGbljq0"
      }
    },
    {
      "cell_type": "code",
      "source": [
        "a=[19,32,10,55,31,32,94,29,10,65,77,40,40]"
      ],
      "metadata": {
        "id": "sTp9oseIkzxy"
      },
      "execution_count": 123,
      "outputs": []
    },
    {
      "cell_type": "markdown",
      "source": [
        "(a) Delete the first occurrence of 32"
      ],
      "metadata": {
        "id": "M8Z6o9y1lwLe"
      }
    },
    {
      "cell_type": "code",
      "source": [
        "a.remove(32)\n",
        "print(a)"
      ],
      "metadata": {
        "colab": {
          "base_uri": "https://localhost:8080/"
        },
        "id": "twlbbScqlzIb",
        "outputId": "8ad59ae2-1a90-40ae-b4f6-e4ff3ae2c7a7"
      },
      "execution_count": 124,
      "outputs": [
        {
          "output_type": "stream",
          "name": "stdout",
          "text": [
            "[19, 10, 55, 31, 32, 94, 29, 10, 65, 77, 40, 40]\n"
          ]
        }
      ]
    },
    {
      "cell_type": "markdown",
      "source": [
        "(b) Delete all occurrences of 40"
      ],
      "metadata": {
        "id": "IcCJOWbJm_Ot"
      }
    },
    {
      "cell_type": "code",
      "source": [
        "a.remove(40)\n",
        "print(a)"
      ],
      "metadata": {
        "colab": {
          "base_uri": "https://localhost:8080/"
        },
        "id": "u3V-vdNDl7Vk",
        "outputId": "8c7d1a62-105a-4743-9120-265b090d87db"
      },
      "execution_count": 125,
      "outputs": [
        {
          "output_type": "stream",
          "name": "stdout",
          "text": [
            "[19, 10, 55, 31, 32, 94, 29, 10, 65, 77, 40]\n"
          ]
        }
      ]
    },
    {
      "cell_type": "markdown",
      "source": [
        "(c) Delete the value at index=5"
      ],
      "metadata": {
        "id": "4EJKKkggquCd"
      }
    },
    {
      "cell_type": "code",
      "source": [
        "a.pop(5)\n",
        "print(a)"
      ],
      "metadata": {
        "colab": {
          "base_uri": "https://localhost:8080/"
        },
        "id": "Kyae0lXSn2r7",
        "outputId": "fa8b2fc6-ff02-42ff-cb0e-e8ad38fb4cf4"
      },
      "execution_count": 126,
      "outputs": [
        {
          "output_type": "stream",
          "name": "stdout",
          "text": [
            "[19, 10, 55, 31, 32, 29, 10, 65, 77, 40]\n"
          ]
        }
      ]
    },
    {
      "cell_type": "markdown",
      "source": [
        "(d) Modify the value at index=9 as 300"
      ],
      "metadata": {
        "id": "XA7_4DiKriLx"
      }
    },
    {
      "cell_type": "code",
      "source": [
        "a.insert(9,300)\n",
        "print(a)"
      ],
      "metadata": {
        "colab": {
          "base_uri": "https://localhost:8080/"
        },
        "id": "lgLGDioBrAk8",
        "outputId": "f15fcc1d-e175-4e1c-e117-23e8a8089ff4"
      },
      "execution_count": 127,
      "outputs": [
        {
          "output_type": "stream",
          "name": "stdout",
          "text": [
            "[19, 10, 55, 31, 32, 29, 10, 65, 77, 300, 40]\n"
          ]
        }
      ]
    },
    {
      "cell_type": "markdown",
      "source": [
        "(e) Add 200 at index=2\n"
      ],
      "metadata": {
        "id": "8WMKxit_sHWN"
      }
    },
    {
      "cell_type": "code",
      "source": [
        "a.insert(2,200)\n",
        "print(a)"
      ],
      "metadata": {
        "colab": {
          "base_uri": "https://localhost:8080/"
        },
        "id": "LDQmVqQfr6nx",
        "outputId": "6832e324-f913-4cdb-9d55-11e64bf01556"
      },
      "execution_count": 128,
      "outputs": [
        {
          "output_type": "stream",
          "name": "stdout",
          "text": [
            "[19, 10, 200, 55, 31, 32, 29, 10, 65, 77, 300, 40]\n"
          ]
        }
      ]
    },
    {
      "cell_type": "markdown",
      "source": [
        "(f) Print the final list with its length, maximum value\n",
        "and sum of all elements"
      ],
      "metadata": {
        "id": "fXdHZk5_stj2"
      }
    },
    {
      "cell_type": "code",
      "source": [
        "len(a)"
      ],
      "metadata": {
        "colab": {
          "base_uri": "https://localhost:8080/"
        },
        "id": "_Ie7bdavsUuI",
        "outputId": "d92c488c-bc58-4197-a3c6-0d892d1947de"
      },
      "execution_count": 129,
      "outputs": [
        {
          "output_type": "execute_result",
          "data": {
            "text/plain": [
              "12"
            ]
          },
          "metadata": {},
          "execution_count": 129
        }
      ]
    },
    {
      "cell_type": "code",
      "source": [
        "sum(a)"
      ],
      "metadata": {
        "colab": {
          "base_uri": "https://localhost:8080/"
        },
        "id": "t1p8-D1bs2x1",
        "outputId": "27bc31c3-60f5-4e83-d62f-fcd93afacb69"
      },
      "execution_count": 130,
      "outputs": [
        {
          "output_type": "execute_result",
          "data": {
            "text/plain": [
              "868"
            ]
          },
          "metadata": {},
          "execution_count": 130
        }
      ]
    },
    {
      "cell_type": "code",
      "source": [
        "max(a)"
      ],
      "metadata": {
        "colab": {
          "base_uri": "https://localhost:8080/"
        },
        "id": "EJ-hccans9ON",
        "outputId": "9e3f00c3-7823-417d-8905-42f36f188669"
      },
      "execution_count": 131,
      "outputs": [
        {
          "output_type": "execute_result",
          "data": {
            "text/plain": [
              "300"
            ]
          },
          "metadata": {},
          "execution_count": 131
        }
      ]
    },
    {
      "cell_type": "markdown",
      "source": [
        "5. Consider a string ”The day has been long”"
      ],
      "metadata": {
        "id": "vEmFIyTZtjZ2"
      }
    },
    {
      "cell_type": "code",
      "source": [
        "S=\"The day has been long\""
      ],
      "metadata": {
        "id": "YlWRdl39tcG4"
      },
      "execution_count": 56,
      "outputs": []
    },
    {
      "cell_type": "markdown",
      "source": [
        "(a) Delete the value at index =4"
      ],
      "metadata": {
        "id": "yALsyLYRt0uc"
      }
    },
    {
      "cell_type": "code",
      "source": [
        "S = S[0:4:]+S[5::]\n",
        "print(S)"
      ],
      "metadata": {
        "colab": {
          "base_uri": "https://localhost:8080/"
        },
        "id": "4pUTbAk_txLc",
        "outputId": "120dbf5e-1bc8-43ef-edaf-ad99f8cf05d0"
      },
      "execution_count": 57,
      "outputs": [
        {
          "output_type": "stream",
          "name": "stdout",
          "text": [
            "The ay has been long\n"
          ]
        }
      ]
    },
    {
      "cell_type": "markdown",
      "source": [
        "(b) Print the string 4 times in a single line with space\n",
        "between each repetition"
      ],
      "metadata": {
        "id": "-GRkiwSmz55V"
      }
    },
    {
      "cell_type": "code",
      "source": [
        "print(\"The day has been long \" *4)"
      ],
      "metadata": {
        "colab": {
          "base_uri": "https://localhost:8080/"
        },
        "id": "s_0eFOZEuHjx",
        "outputId": "0034887c-5945-4304-dcc0-6bdb39bc09f8"
      },
      "execution_count": 13,
      "outputs": [
        {
          "output_type": "stream",
          "name": "stdout",
          "text": [
            "The day has been long The day has been long The day has been long The day has been long \n"
          ]
        }
      ]
    },
    {
      "cell_type": "markdown",
      "source": [
        "(c) Print the string 3 times in a new line each time"
      ],
      "metadata": {
        "id": "PiHC6Wtpz9G8"
      }
    },
    {
      "cell_type": "code",
      "source": [
        "print(\"The day has been long \\n\" *3)"
      ],
      "metadata": {
        "id": "G58Ze_savQ02",
        "colab": {
          "base_uri": "https://localhost:8080/"
        },
        "outputId": "da720324-692e-41a2-cc1b-b47484c335ff"
      },
      "execution_count": null,
      "outputs": [
        {
          "output_type": "stream",
          "name": "stdout",
          "text": [
            "The day has been long \n",
            "The day has been long \n",
            "The day has been long \n",
            "\n"
          ]
        }
      ]
    },
    {
      "cell_type": "markdown",
      "source": [
        "(d)\n",
        "Modify the string at index 7 as ’A’"
      ],
      "metadata": {
        "id": "Ef9pw3Xg0IlX"
      }
    },
    {
      "cell_type": "code",
      "source": [
        "S=S[:7]+'A'+S[7:]\n",
        "print(S)"
      ],
      "metadata": {
        "id": "FU3w5iKQ0GEJ",
        "colab": {
          "base_uri": "https://localhost:8080/"
        },
        "outputId": "a912c592-7101-4ce0-c9ef-39f625d2c5b3"
      },
      "execution_count": 58,
      "outputs": [
        {
          "output_type": "stream",
          "name": "stdout",
          "text": [
            "The ay Ahas been long\n"
          ]
        }
      ]
    },
    {
      "cell_type": "markdown",
      "source": [
        "(e)\n",
        "Print the string from index 4 to 15"
      ],
      "metadata": {
        "id": "A1VWsgjDz0UI"
      }
    },
    {
      "cell_type": "code",
      "source": [
        "S=S[4:16]\n",
        "print(S)"
      ],
      "metadata": {
        "colab": {
          "base_uri": "https://localhost:8080/"
        },
        "id": "wfq560wew9id",
        "outputId": "83b15cdd-d4fd-46f4-af5b-0a89101f4a76"
      },
      "execution_count": 59,
      "outputs": [
        {
          "output_type": "stream",
          "name": "stdout",
          "text": [
            "ay Ahas been\n"
          ]
        }
      ]
    },
    {
      "cell_type": "markdown",
      "source": [
        "(f)\n",
        "Print the final string with its length"
      ],
      "metadata": {
        "id": "xAKA4Ggj1QeJ"
      }
    },
    {
      "cell_type": "code",
      "source": [
        "len(S)"
      ],
      "metadata": {
        "colab": {
          "base_uri": "https://localhost:8080/"
        },
        "id": "3gBgSYCS0OSu",
        "outputId": "fa9f9369-c79b-4ef7-e41c-36f9f01ada35"
      },
      "execution_count": 60,
      "outputs": [
        {
          "output_type": "execute_result",
          "data": {
            "text/plain": [
              "12"
            ]
          },
          "metadata": {},
          "execution_count": 60
        }
      ]
    },
    {
      "cell_type": "code",
      "source": [],
      "metadata": {
        "id": "MtnW3c4x2W4Y"
      },
      "execution_count": null,
      "outputs": []
    }
  ]
}