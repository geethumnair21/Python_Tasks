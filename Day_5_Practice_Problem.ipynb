{
  "nbformat": 4,
  "nbformat_minor": 0,
  "metadata": {
    "colab": {
      "provenance": []
    },
    "kernelspec": {
      "name": "python3",
      "display_name": "Python 3"
    },
    "language_info": {
      "name": "python"
    }
  },
  "cells": [
    {
      "cell_type": "markdown",
      "source": [
        "1.Write a function that returns the middle value among three integers.Write code to test this\n",
        "function with different inputs."
      ],
      "metadata": {
        "id": "-MHdp6DwkRJ8"
      }
    },
    {
      "cell_type": "code",
      "execution_count": null,
      "metadata": {
        "id": "qbAkQSVmMwry",
        "colab": {
          "base_uri": "https://localhost:8080/"
        },
        "outputId": "1001615b-52c6-43ce-9de0-468cfdf889ed"
      },
      "outputs": [
        {
          "output_type": "stream",
          "name": "stdout",
          "text": [
            "6\n",
            "34\n",
            "1\n",
            "0\n"
          ]
        }
      ],
      "source": [
        "def mid_value(a,b,c):\n",
        "  lst=[a,b,c]\n",
        "  return lst[1]\n",
        "#a,b,c=map(int, input('Enter three numbers: ').split(' '))\n",
        "#result=mid_value(a,b,c)\n",
        "print(mid_value(3,6,9))\n",
        "print(mid_value(10,34,1))\n",
        "print(mid_value(56,1,5))\n",
        "print(mid_value(5,0,2))"
      ]
    },
    {
      "cell_type": "markdown",
      "source": [
        "2. Build a calculator in Python using functions"
      ],
      "metadata": {
        "id": "24KIOv114YUH"
      }
    },
    {
      "cell_type": "code",
      "source": [
        "def calculator():\n",
        "  print('Choose your choice(1-5)')\n",
        "  print('1. Add')\n",
        "  print('2. Subtract')\n",
        "  print('3. Multiplay')\n",
        "  print('4. Divide')\n",
        "  print('5. Exit')\n",
        "  while True:\n",
        "    choice=int(input('Enter your chioce : '))\n",
        "    if choice==5:\n",
        "      break\n",
        "    a=int(input('Enter firt number : '))\n",
        "    b=int(input('Enter second number : '))\n",
        "    if choice==1:\n",
        "      result=a+b\n",
        "      print('Result :',result)\n",
        "    elif choice==2:\n",
        "      result=a-b\n",
        "      print('Result :',result)\n",
        "    elif choice==3:\n",
        "      result=a*b\n",
        "      print('Result :',result)\n",
        "    elif choice==4:\n",
        "      if b==0:\n",
        "        print('Invlid input')\n",
        "      else:\n",
        "       result=a/b\n",
        "       print('Result :',result)\n",
        "    else:\n",
        "     print('Invalid choice')\n",
        "calculator()"
      ],
      "metadata": {
        "id": "2v_-zaoc2Rg7",
        "colab": {
          "base_uri": "https://localhost:8080/"
        },
        "outputId": "81cf6a0f-6d9e-4167-e064-b59dcad328f5"
      },
      "execution_count": 9,
      "outputs": [
        {
          "name": "stdout",
          "output_type": "stream",
          "text": [
            "Choose your choice(1-5)\n",
            "1. Add\n",
            "2. Subtract\n",
            "3. Multiplay\n",
            "4. Divide\n",
            "5. Exit\n",
            "Enter your chioce : 1\n",
            "Enter firt number : 6\n",
            "Enter second number : 4\n",
            "Result : 10\n",
            "Enter your chioce : 2\n",
            "Enter firt number : 8\n",
            "Enter second number : 4\n",
            "Result : 4\n",
            "Enter your chioce : 3\n",
            "Enter firt number : 7\n",
            "Enter second number : 5\n",
            "Result : 35\n",
            "Enter your chioce : 4\n",
            "Enter firt number : 8\n",
            "Enter second number : 2\n",
            "Result : 4.0\n",
            "Enter your chioce : 4\n",
            "Enter firt number : 8\n",
            "Enter second number : 0\n",
            "Invlid input\n",
            "Enter your chioce : 5\n"
          ]
        }
      ]
    },
    {
      "cell_type": "markdown",
      "source": [
        "3. Write a function that takes the lengths of the two shorter sides of a right triangle as its\n",
        "parameters. Return the hypotenuse of the triangle, computed using Pythagorean theorem,\n",
        "as the function’s result."
      ],
      "metadata": {
        "id": "V8gaknKD4xRd"
      }
    },
    {
      "cell_type": "code",
      "source": [
        "import math\n",
        "def hypotenuse_cal(l1,l2):\n",
        "  result=math.sqrt(l1**2+l2**2)\n",
        "  return result\n",
        "l1=float(input('Enter shorter sides 1 of a right triangle : '))\n",
        "l2=float(input('Enter shorter sides 2 of a right triangle : '))\n",
        "hypotenuse=hypotenuse_cal(l1,l2)\n",
        "print('Hypotenuse of the triangle is :',hypotenuse)"
      ],
      "metadata": {
        "colab": {
          "base_uri": "https://localhost:8080/"
        },
        "id": "USr_UryY4pTO",
        "outputId": "5ce25869-6f0c-4946-dd90-8311722eeb8c"
      },
      "execution_count": null,
      "outputs": [
        {
          "output_type": "stream",
          "name": "stdout",
          "text": [
            "Enter shorter sides 1 of a right triangle : 3\n",
            "Enter shorter sides 2 of a right triangle : 5\n",
            "Hypotenuse of the triangle is : 5.830951894845301\n"
          ]
        }
      ]
    },
    {
      "cell_type": "markdown",
      "source": [
        "4. The Rectangle problem     \n",
        "(a) Write a Rectangle class in Python language, allowing you to build a rectangle with\n",
        "length and width attributes.    \n",
        "(b) Create a Perimeter() method to calculate the perimeter of the rectangle and a Area()\n",
        "method to calculate the area of the rectangle.    \n",
        "(c) Create a method display() that display the length, width, perimeter and area of an\n",
        "object created using an instantiation on rectangle class."
      ],
      "metadata": {
        "id": "ksw8WyyyA-2j"
      }
    },
    {
      "cell_type": "code",
      "source": [
        "class Rectangle:\n",
        "  def __init__(self,length,width):\n",
        "    self.length=length\n",
        "    self.width=width\n",
        "  def Permeter(self):\n",
        "    p=2*(self.length+self.width)\n",
        "    return p\n",
        "  def Area(self):\n",
        "    A=self.length*self.width\n",
        "    return A\n",
        "  def display(self):\n",
        "    print('Length of the rectangle is : ',self.length)\n",
        "    print('Width of the rectangle is : ',self.width)\n",
        "    print('Perimeter of the rectangle is : ',self.Permeter())\n",
        "    print('Area of the rectangle is : ',self.Area())\n",
        "length=float(input('Enter length of the rectangle : '))\n",
        "width=float(input('Enter width of the rectangle : '))\n",
        "my_Rectangle=Rectangle(length,width)\n",
        "my_Rectangle.display()"
      ],
      "metadata": {
        "colab": {
          "base_uri": "https://localhost:8080/"
        },
        "id": "ae2oLCf3AUDJ",
        "outputId": "795e90ea-6388-4281-e070-7a22bb2e0873"
      },
      "execution_count": null,
      "outputs": [
        {
          "output_type": "stream",
          "name": "stdout",
          "text": [
            "Enter length of the rectangle : 3\n",
            "Enter width of the rectangle : 4\n",
            "Length of the rectangle is :  3.0\n",
            "Width of the rectangle is :  4.0\n",
            "Perimeter of the rectangle is :  14.0\n",
            "Area of the rectangle is :  12.0\n"
          ]
        }
      ]
    },
    {
      "cell_type": "markdown",
      "source": [
        "5. The Bank Account problem   \n",
        "(a) Create a Python class called BankAccount which represents a bank account, having\n",
        "as attributes: accountNumber (numeric type), name (name of the account owner as\n",
        "string type), balance.   \n",
        "(b) Create a constructor with parameters: accountNumber, name, balance.  \n",
        "(c) Create a Deposit() method which manages the deposit actions.  \n",
        "(d) Create a Withdrawal() method which manages withdrawals actions.  \n",
        "(e) Create an bankFees() method to apply the bank fees with a\n",
        "  percentage of 5% of the\n",
        "balance account.  \n",
        "(f) Create a display() method to display account details."
      ],
      "metadata": {
        "id": "Q9GIF9N08c8F"
      }
    },
    {
      "cell_type": "code",
      "source": [
        "class BankAccount():\n",
        "  def __init__(self,AccoutNumber,Owner,Balance):\n",
        "    self.AccoutNumber=AccoutNumber\n",
        "    self.Owner=Owner\n",
        "    self.Balance=Balance\n",
        "  def Deposit(self,amount):\n",
        "    self.Balance=self.Balance+amount\n",
        "    print(amount,'has been deposited to your account')\n",
        "  def Withdrawal(self,amount):\n",
        "    self.Balance=self.Balance-amount\n",
        "    print(amount,'has been withdrawed from your account')\n",
        "  def bankFees(self):\n",
        "    fee=(5*self.Balance)/100\n",
        "    self.Balance=self.Balance-fee\n",
        "    print('Bank fee is : ',fee)\n",
        "  def display(self):\n",
        "    print('Account Number : ',self.AccoutNumber)\n",
        "    print('Owner          : ',self.Owner)\n",
        "    print('Balance        : ',self.Balance)\n",
        "\n",
        "AccountNumber=int(input('Enter your account number : '))\n",
        "Owner=input('Enter name of the account owner : ')\n",
        "Balance=float(input('Enter the balance of your account : '))\n",
        "dep=int(input('Enter the amount to be deposit: '))\n",
        "withdraw=int(input('Enter the amount to be withdrawed: '))\n",
        "\n",
        "\n",
        "my_account=BankAccount(AccountNumber,Owner,Balance)\n",
        "my_account.display()\n",
        "my_account.Deposit(dep)\n",
        "my_account.Withdrawal(withdraw)\n",
        "my_account.bankFees()\n",
        "my_account.display()"
      ],
      "metadata": {
        "colab": {
          "base_uri": "https://localhost:8080/"
        },
        "id": "NdS954Ms8BWR",
        "outputId": "0fc40616-d3ea-43b5-9251-9460847cfb60"
      },
      "execution_count": null,
      "outputs": [
        {
          "output_type": "stream",
          "name": "stdout",
          "text": [
            "Enter your account number : 31436936411\n",
            "Enter name of the account owner : Geethu M Nair\n",
            "Enter the balance of your account : 1000\n",
            "Enter the amount to be deposit: 500\n",
            "Enter the amount to be withdrawed: 200\n",
            "Account Number :  31436936411\n",
            "Owner          :  Geethu M Nair\n",
            "Balance        :  1000.0\n",
            "500 has been deposited to your account\n",
            "200 has been withdrawed from your account\n",
            "Bank fee is :  65.0\n",
            "Account Number :  31436936411\n",
            "Owner          :  Geethu M Nair\n",
            "Balance        :  1235.0\n"
          ]
        }
      ]
    },
    {
      "cell_type": "code",
      "source": [],
      "metadata": {
        "id": "b_erhthmITX-"
      },
      "execution_count": null,
      "outputs": []
    }
  ]
}