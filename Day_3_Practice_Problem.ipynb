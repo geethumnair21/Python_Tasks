{
  "nbformat": 4,
  "nbformat_minor": 0,
  "metadata": {
    "colab": {
      "provenance": []
    },
    "kernelspec": {
      "name": "python3",
      "display_name": "Python 3"
    },
    "language_info": {
      "name": "python"
    }
  },
  "cells": [
    {
      "cell_type": "markdown",
      "source": [
        "1. Given the participants' score sheet for your University Sports Day, you are required to\n",
        "find the runner-up score. You are given scores. Store them in a list and find the score of\n",
        "the runner-up. (Create an array of scores and print the runner up score)"
      ],
      "metadata": {
        "id": "zcPY-llHEOrB"
      }
    },
    {
      "cell_type": "code",
      "execution_count": null,
      "metadata": {
        "colab": {
          "base_uri": "https://localhost:8080/"
        },
        "id": "tqvzcVo8D3sW",
        "outputId": "14b77160-bae9-4078-c849-f0b39c8dff60"
      },
      "outputs": [
        {
          "output_type": "stream",
          "name": "stdout",
          "text": [
            "Enter the scores of the player: 10 45 27 44 28 49\n",
            "[10, 45, 27, 44, 28, 49]\n",
            "[49, 45, 44, 28, 27, 10]\n",
            "The runner-up score is 45\n"
          ]
        }
      ],
      "source": [
        "score=list(map(int, input(\"Enter the scores of the player: \").split(' ')))\n",
        "print(score)\n",
        "score.sort(reverse=True)\n",
        "print(score)\n",
        "print('The runner-up score is',score[1])"
      ]
    },
    {
      "cell_type": "markdown",
      "source": [
        "2. A dictionary is given D={‘John’ [25,32,43],’Peter’:[87,55,96],’Ram’:[58,55,43],’Meena’:[63,79,85]}\n",
        "Get a name from user if the name in the dictionary change the values corresponding to\n",
        "that user to [88,77,99] and print the dictionary. Else print ‘Name not found’."
      ],
      "metadata": {
        "id": "MBBq1quuS7aB"
      }
    },
    {
      "cell_type": "code",
      "source": [
        "D={'John':[25,32,43],'Peter':[87,55,96],'Ram':[58,55,43],'Meena':[63,79,85]}\n",
        "user=input('Enter user name ').capitalize()\n",
        "key=D.keys()\n",
        "if user in key:\n",
        "  D[user]=[88,77,99]\n",
        "  print(D)\n",
        "else:\n",
        "  print('Name not found')"
      ],
      "metadata": {
        "colab": {
          "base_uri": "https://localhost:8080/"
        },
        "id": "6fsC1yjqI8t0",
        "outputId": "420693d0-5cea-4a98-c250-2842c8fa6b87"
      },
      "execution_count": null,
      "outputs": [
        {
          "output_type": "stream",
          "name": "stdout",
          "text": [
            "Enter user name peter\n",
            "{'John': [25, 32, 43], 'Peter': [88, 77, 99], 'Ram': [58, 55, 43], 'Meena': [63, 79, 85]}\n"
          ]
        }
      ]
    },
    {
      "cell_type": "markdown",
      "source": [
        "3. Ticket Price Calculator:\n",
        "I. Ask the user to enter their age.\n",
        "II. Use control statements (if-elif-else) to calculate the ticket price based on the following conditions:\n",
        "a. If the age is below 5, the ticket price is free.\n",
        "b. If the age is between 5 and 12 (inclusive), the ticket price is Rs.10.\n",
        "c. If the age is above 12, the ticket price is Rs.50.\n",
        "d. If the age is above 60, the ticket price is free.\n",
        "e. If the gender is female, the ticket price is 50% of the applicable rates.\n",
        "III. Display the ticket price to the user."
      ],
      "metadata": {
        "id": "oSRQCjfaHyOp"
      }
    },
    {
      "cell_type": "code",
      "source": [
        "age=int(input('Please Enter Age : '))\n",
        "gender=input('Enter Gender(Male/Female) : ').capitalize()\n",
        "if age>=5 and age<=12:\n",
        "  ticket_price=10\n",
        "elif age>60 or age<5:\n",
        "  ticket_price=0\n",
        "else:\n",
        "    ticket_price = 50\n",
        "if gender=='Female':\n",
        " ticket_price=ticket_price*50/100\n",
        "print('The ticket price is Rs.',ticket_price)"
      ],
      "metadata": {
        "id": "uUYdREpFUkp7",
        "colab": {
          "base_uri": "https://localhost:8080/"
        },
        "outputId": "4d258ca0-9fc9-4fd0-f3fc-b7bbaec1c0d4"
      },
      "execution_count": 2,
      "outputs": [
        {
          "output_type": "stream",
          "name": "stdout",
          "text": [
            "Please Enter Age : 25\n",
            "Enter Gender(Male/Female) : Female\n",
            "The ticket price is Rs. 25.0\n"
          ]
        }
      ]
    },
    {
      "cell_type": "code",
      "source": [],
      "metadata": {
        "id": "YIWICVKVUSQe"
      },
      "execution_count": null,
      "outputs": []
    },
    {
      "cell_type": "code",
      "source": [],
      "metadata": {
        "id": "QrIqgR8Rklwm"
      },
      "execution_count": null,
      "outputs": []
    }
  ]
}