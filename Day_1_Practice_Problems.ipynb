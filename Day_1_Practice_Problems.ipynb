{
  "nbformat": 4,
  "nbformat_minor": 0,
  "metadata": {
    "colab": {
      "provenance": []
    },
    "kernelspec": {
      "name": "python3",
      "display_name": "Python 3"
    },
    "language_info": {
      "name": "python"
    }
  },
  "cells": [
    {
      "cell_type": "code",
      "execution_count": null,
      "metadata": {
        "id": "Uct7SbygJouT"
      },
      "outputs": [],
      "source": []
    },
    {
      "cell_type": "markdown",
      "source": [
        "1. Given the string \"Hello, World!\", extract and print the\n",
        "substring \"Hello\"."
      ],
      "metadata": {
        "id": "CTTiI9CyJ8g1"
      }
    },
    {
      "cell_type": "code",
      "source": [
        "x=\"Hello, World!\"\n",
        "print(x[:5])"
      ],
      "metadata": {
        "colab": {
          "base_uri": "https://localhost:8080/"
        },
        "id": "hyT8MNenKAOJ",
        "outputId": "7ad90f30-da98-4be3-9e9a-a490629e2666"
      },
      "execution_count": null,
      "outputs": [
        {
          "output_type": "stream",
          "name": "stdout",
          "text": [
            "Hello\n"
          ]
        }
      ]
    },
    {
      "cell_type": "markdown",
      "source": [
        "2. Given the string \"Python is fun\", extract and print the\n",
        "substring \"is\"."
      ],
      "metadata": {
        "id": "N5BQELoHKjHM"
      }
    },
    {
      "cell_type": "code",
      "source": [
        "a=\"Python is fun\"\n",
        "print(a[7:9])"
      ],
      "metadata": {
        "colab": {
          "base_uri": "https://localhost:8080/"
        },
        "id": "TtZ6Q-x0KZMM",
        "outputId": "fcc584c2-a407-4c60-9efc-3ecbb5f693ea"
      },
      "execution_count": null,
      "outputs": [
        {
          "output_type": "stream",
          "name": "stdout",
          "text": [
            "is\n"
          ]
        }
      ]
    },
    {
      "cell_type": "markdown",
      "source": [
        "3. Given the string \"Programming\", extract and print the\n",
        "substring \"gram\" using slicing indices.\n"
      ],
      "metadata": {
        "id": "N3jVVhLwK50o"
      }
    },
    {
      "cell_type": "code",
      "source": [
        "b=\"Programming\"\n",
        "print(b[3:7])"
      ],
      "metadata": {
        "colab": {
          "base_uri": "https://localhost:8080/"
        },
        "id": "FqGKTJhtK0Ei",
        "outputId": "98b3e93b-f40f-493d-a6c0-71da86944fac"
      },
      "execution_count": null,
      "outputs": [
        {
          "output_type": "stream",
          "name": "stdout",
          "text": [
            "gram\n"
          ]
        }
      ]
    },
    {
      "cell_type": "markdown",
      "source": [
        "4. Given the string \"abcdefgh\", use slicing to print only the\n",
        "characters at even indices."
      ],
      "metadata": {
        "id": "OY-P_EXcLQsZ"
      }
    },
    {
      "cell_type": "code",
      "source": [
        "c=\"abcdefgh\"\n",
        "print(c[::2])"
      ],
      "metadata": {
        "colab": {
          "base_uri": "https://localhost:8080/"
        },
        "id": "8F7VOGbPLK3P",
        "outputId": "e2621e37-2db1-4972-ba62-fecfcb7aef1b"
      },
      "execution_count": null,
      "outputs": [
        {
          "output_type": "stream",
          "name": "stdout",
          "text": [
            "aceg\n"
          ]
        }
      ]
    },
    {
      "cell_type": "markdown",
      "source": [
        "5. Given the string \"abcdefg\", use negative indices to extract\n",
        "and print the substring \"efg\"."
      ],
      "metadata": {
        "id": "8epWzOm6Lf00"
      }
    },
    {
      "cell_type": "code",
      "source": [
        "y=\"abcdefg\"\n",
        "print(y[-3:])"
      ],
      "metadata": {
        "colab": {
          "base_uri": "https://localhost:8080/"
        },
        "id": "8P6mCqm8LcKs",
        "outputId": "8df417c0-9001-4fc5-a684-70dd384cc4d8"
      },
      "execution_count": null,
      "outputs": [
        {
          "output_type": "stream",
          "name": "stdout",
          "text": [
            "efg\n"
          ]
        }
      ]
    },
    {
      "cell_type": "markdown",
      "source": [
        "6. Given the string \"Data Science\", use negative indices to\n",
        "extract and print the last three characters.\n"
      ],
      "metadata": {
        "id": "W0XPV4PHMBM4"
      }
    },
    {
      "cell_type": "code",
      "source": [
        "x=\"Data Science\"\n",
        "print(x[-3:])"
      ],
      "metadata": {
        "colab": {
          "base_uri": "https://localhost:8080/"
        },
        "id": "AgHCeeUZL-ah",
        "outputId": "17a70a6e-4994-437c-a897-de2d5ed8f67f"
      },
      "execution_count": null,
      "outputs": [
        {
          "output_type": "stream",
          "name": "stdout",
          "text": [
            "nce\n"
          ]
        }
      ]
    },
    {
      "cell_type": "markdown",
      "source": [
        "7. Given the string \"abcdefghij\", use slicing with a step to\n",
        "print every second character."
      ],
      "metadata": {
        "id": "K8Qh8HoBMWg-"
      }
    },
    {
      "cell_type": "code",
      "source": [
        "a=\"abcdefghij\"\n",
        "print(a[1::2])"
      ],
      "metadata": {
        "colab": {
          "base_uri": "https://localhost:8080/"
        },
        "id": "q9QYsaClMUy1",
        "outputId": "8f330e19-98de-44bb-c418-023802e2ba29"
      },
      "execution_count": 1,
      "outputs": [
        {
          "output_type": "stream",
          "name": "stdout",
          "text": [
            "bdfhj\n"
          ]
        }
      ]
    },
    {
      "cell_type": "markdown",
      "source": [
        "8. Given the string \"1234567890\", use slicing with a step to\n",
        "print the odd digits.\n"
      ],
      "metadata": {
        "id": "ZZyDuuAgNYGb"
      }
    },
    {
      "cell_type": "code",
      "source": [
        "b=\"1234567890\"\n",
        "print(b[::2])"
      ],
      "metadata": {
        "colab": {
          "base_uri": "https://localhost:8080/"
        },
        "id": "vm4Top_dNBHd",
        "outputId": "472152bc-1c32-4e75-bfdd-a3d46ec5b0e0"
      },
      "execution_count": null,
      "outputs": [
        {
          "output_type": "stream",
          "name": "stdout",
          "text": [
            "13579\n"
          ]
        }
      ]
    },
    {
      "cell_type": "markdown",
      "source": [
        "9. Given the string \"Hello\", use slicing to print the string in\n",
        "reverse order."
      ],
      "metadata": {
        "id": "DkDz9uwMNk6d"
      }
    },
    {
      "cell_type": "code",
      "source": [
        "c=\"Hello\"\n",
        "print(c[::-1])"
      ],
      "metadata": {
        "colab": {
          "base_uri": "https://localhost:8080/"
        },
        "id": "OuphtOfGNigC",
        "outputId": "0eed564f-8c16-43d0-e947-19421c32416d"
      },
      "execution_count": null,
      "outputs": [
        {
          "output_type": "stream",
          "name": "stdout",
          "text": [
            "olleH\n"
          ]
        }
      ]
    },
    {
      "cell_type": "markdown",
      "source": [
        "10. Given the string \"abcdefghijk\", extract and print the\n",
        "substring \"acegik\" using slicing."
      ],
      "metadata": {
        "id": "kQUSIN9aODNp"
      }
    },
    {
      "cell_type": "code",
      "source": [
        "g=\"abcdefghijk\"\n",
        "print(g[::2])"
      ],
      "metadata": {
        "colab": {
          "base_uri": "https://localhost:8080/"
        },
        "id": "F-n-YGiTN0QQ",
        "outputId": "f6e639fc-cc3d-486c-dba4-b01182c13161"
      },
      "execution_count": null,
      "outputs": [
        {
          "output_type": "stream",
          "name": "stdout",
          "text": [
            "acegik\n"
          ]
        }
      ]
    },
    {
      "cell_type": "code",
      "source": [],
      "metadata": {
        "id": "c28Fx2gPOVJX"
      },
      "execution_count": null,
      "outputs": []
    }
  ]
}